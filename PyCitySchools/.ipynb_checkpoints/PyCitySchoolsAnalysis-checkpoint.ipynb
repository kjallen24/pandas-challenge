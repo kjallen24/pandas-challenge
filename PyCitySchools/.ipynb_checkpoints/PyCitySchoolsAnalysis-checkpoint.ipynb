{
 "cells": [
  {
   "cell_type": "code",
   "execution_count": 77,
   "metadata": {},
   "outputs": [],
   "source": [
    "# Dependencies and Setup\n",
    "import pandas as pd\n",
    "import numpy as np\n",
    "\n",
    "# Files to Load\n",
    "schools = 'Resources/schools_complete.csv'\n",
    "students = 'Resources/students_complete.csv'\n",
    "\n",
    "# Read School and Student Data File and store into Pandas DataFrames\n",
    "school_data = pd.read_csv(schools)\n",
    "student_data = pd.read_csv(students)\n",
    "\n",
    "# Combine the data into a single dataset.  \n",
    "school_data_complete = pd.merge(student_data, school_data, how=\"left\", on=[\"school_name\", \"school_name\"])"
   ]
  },
  {
   "cell_type": "code",
   "execution_count": 78,
   "metadata": {},
   "outputs": [
    {
     "data": {
      "text/html": [
       "<div>\n",
       "<style scoped>\n",
       "    .dataframe tbody tr th:only-of-type {\n",
       "        vertical-align: middle;\n",
       "    }\n",
       "\n",
       "    .dataframe tbody tr th {\n",
       "        vertical-align: top;\n",
       "    }\n",
       "\n",
       "    .dataframe thead th {\n",
       "        text-align: right;\n",
       "    }\n",
       "</style>\n",
       "<table border=\"1\" class=\"dataframe\">\n",
       "  <thead>\n",
       "    <tr style=\"text-align: right;\">\n",
       "      <th></th>\n",
       "      <th>Student ID</th>\n",
       "      <th>student_name</th>\n",
       "      <th>gender</th>\n",
       "      <th>grade</th>\n",
       "      <th>school_name</th>\n",
       "      <th>reading_score</th>\n",
       "      <th>math_score</th>\n",
       "      <th>School ID</th>\n",
       "      <th>type</th>\n",
       "      <th>size</th>\n",
       "      <th>budget</th>\n",
       "    </tr>\n",
       "  </thead>\n",
       "  <tbody>\n",
       "    <tr>\n",
       "      <th>0</th>\n",
       "      <td>0</td>\n",
       "      <td>Paul Bradley</td>\n",
       "      <td>M</td>\n",
       "      <td>9th</td>\n",
       "      <td>Huang High School</td>\n",
       "      <td>66</td>\n",
       "      <td>79</td>\n",
       "      <td>0</td>\n",
       "      <td>District</td>\n",
       "      <td>2917</td>\n",
       "      <td>1910635</td>\n",
       "    </tr>\n",
       "    <tr>\n",
       "      <th>1</th>\n",
       "      <td>1</td>\n",
       "      <td>Victor Smith</td>\n",
       "      <td>M</td>\n",
       "      <td>12th</td>\n",
       "      <td>Huang High School</td>\n",
       "      <td>94</td>\n",
       "      <td>61</td>\n",
       "      <td>0</td>\n",
       "      <td>District</td>\n",
       "      <td>2917</td>\n",
       "      <td>1910635</td>\n",
       "    </tr>\n",
       "    <tr>\n",
       "      <th>2</th>\n",
       "      <td>2</td>\n",
       "      <td>Kevin Rodriguez</td>\n",
       "      <td>M</td>\n",
       "      <td>12th</td>\n",
       "      <td>Huang High School</td>\n",
       "      <td>90</td>\n",
       "      <td>60</td>\n",
       "      <td>0</td>\n",
       "      <td>District</td>\n",
       "      <td>2917</td>\n",
       "      <td>1910635</td>\n",
       "    </tr>\n",
       "    <tr>\n",
       "      <th>3</th>\n",
       "      <td>3</td>\n",
       "      <td>Dr. Richard Scott</td>\n",
       "      <td>M</td>\n",
       "      <td>12th</td>\n",
       "      <td>Huang High School</td>\n",
       "      <td>67</td>\n",
       "      <td>58</td>\n",
       "      <td>0</td>\n",
       "      <td>District</td>\n",
       "      <td>2917</td>\n",
       "      <td>1910635</td>\n",
       "    </tr>\n",
       "    <tr>\n",
       "      <th>4</th>\n",
       "      <td>4</td>\n",
       "      <td>Bonnie Ray</td>\n",
       "      <td>F</td>\n",
       "      <td>9th</td>\n",
       "      <td>Huang High School</td>\n",
       "      <td>97</td>\n",
       "      <td>84</td>\n",
       "      <td>0</td>\n",
       "      <td>District</td>\n",
       "      <td>2917</td>\n",
       "      <td>1910635</td>\n",
       "    </tr>\n",
       "  </tbody>\n",
       "</table>\n",
       "</div>"
      ],
      "text/plain": [
       "   Student ID       student_name gender grade        school_name  \\\n",
       "0           0       Paul Bradley      M   9th  Huang High School   \n",
       "1           1       Victor Smith      M  12th  Huang High School   \n",
       "2           2    Kevin Rodriguez      M  12th  Huang High School   \n",
       "3           3  Dr. Richard Scott      M  12th  Huang High School   \n",
       "4           4         Bonnie Ray      F   9th  Huang High School   \n",
       "\n",
       "   reading_score  math_score  School ID      type  size   budget  \n",
       "0             66          79          0  District  2917  1910635  \n",
       "1             94          61          0  District  2917  1910635  \n",
       "2             90          60          0  District  2917  1910635  \n",
       "3             67          58          0  District  2917  1910635  \n",
       "4             97          84          0  District  2917  1910635  "
      ]
     },
     "execution_count": 78,
     "metadata": {},
     "output_type": "execute_result"
    }
   ],
   "source": [
    "school_data_complete.head()"
   ]
  },
  {
   "cell_type": "code",
   "execution_count": 79,
   "metadata": {},
   "outputs": [
    {
     "data": {
      "text/html": [
       "<div>\n",
       "<style scoped>\n",
       "    .dataframe tbody tr th:only-of-type {\n",
       "        vertical-align: middle;\n",
       "    }\n",
       "\n",
       "    .dataframe tbody tr th {\n",
       "        vertical-align: top;\n",
       "    }\n",
       "\n",
       "    .dataframe thead th {\n",
       "        text-align: right;\n",
       "    }\n",
       "</style>\n",
       "<table border=\"1\" class=\"dataframe\">\n",
       "  <thead>\n",
       "    <tr style=\"text-align: right;\">\n",
       "      <th></th>\n",
       "      <th>Student ID</th>\n",
       "      <th>reading_score</th>\n",
       "      <th>math_score</th>\n",
       "      <th>School ID</th>\n",
       "      <th>size</th>\n",
       "      <th>budget</th>\n",
       "    </tr>\n",
       "  </thead>\n",
       "  <tbody>\n",
       "    <tr>\n",
       "      <th>count</th>\n",
       "      <td>39170.000000</td>\n",
       "      <td>39170.00000</td>\n",
       "      <td>39170.000000</td>\n",
       "      <td>39170.000000</td>\n",
       "      <td>39170.000000</td>\n",
       "      <td>3.917000e+04</td>\n",
       "    </tr>\n",
       "    <tr>\n",
       "      <th>mean</th>\n",
       "      <td>19584.500000</td>\n",
       "      <td>81.87784</td>\n",
       "      <td>78.985371</td>\n",
       "      <td>6.978172</td>\n",
       "      <td>3332.957110</td>\n",
       "      <td>2.117241e+06</td>\n",
       "    </tr>\n",
       "    <tr>\n",
       "      <th>std</th>\n",
       "      <td>11307.549359</td>\n",
       "      <td>10.23958</td>\n",
       "      <td>12.309968</td>\n",
       "      <td>4.444329</td>\n",
       "      <td>1323.914069</td>\n",
       "      <td>8.749987e+05</td>\n",
       "    </tr>\n",
       "    <tr>\n",
       "      <th>min</th>\n",
       "      <td>0.000000</td>\n",
       "      <td>63.00000</td>\n",
       "      <td>55.000000</td>\n",
       "      <td>0.000000</td>\n",
       "      <td>427.000000</td>\n",
       "      <td>2.480870e+05</td>\n",
       "    </tr>\n",
       "    <tr>\n",
       "      <th>25%</th>\n",
       "      <td>9792.250000</td>\n",
       "      <td>73.00000</td>\n",
       "      <td>69.000000</td>\n",
       "      <td>3.000000</td>\n",
       "      <td>1858.000000</td>\n",
       "      <td>1.081356e+06</td>\n",
       "    </tr>\n",
       "    <tr>\n",
       "      <th>50%</th>\n",
       "      <td>19584.500000</td>\n",
       "      <td>82.00000</td>\n",
       "      <td>79.000000</td>\n",
       "      <td>7.000000</td>\n",
       "      <td>2949.000000</td>\n",
       "      <td>1.910635e+06</td>\n",
       "    </tr>\n",
       "    <tr>\n",
       "      <th>75%</th>\n",
       "      <td>29376.750000</td>\n",
       "      <td>91.00000</td>\n",
       "      <td>89.000000</td>\n",
       "      <td>11.000000</td>\n",
       "      <td>4635.000000</td>\n",
       "      <td>3.022020e+06</td>\n",
       "    </tr>\n",
       "    <tr>\n",
       "      <th>max</th>\n",
       "      <td>39169.000000</td>\n",
       "      <td>99.00000</td>\n",
       "      <td>99.000000</td>\n",
       "      <td>14.000000</td>\n",
       "      <td>4976.000000</td>\n",
       "      <td>3.124928e+06</td>\n",
       "    </tr>\n",
       "  </tbody>\n",
       "</table>\n",
       "</div>"
      ],
      "text/plain": [
       "         Student ID  reading_score    math_score     School ID          size  \\\n",
       "count  39170.000000    39170.00000  39170.000000  39170.000000  39170.000000   \n",
       "mean   19584.500000       81.87784     78.985371      6.978172   3332.957110   \n",
       "std    11307.549359       10.23958     12.309968      4.444329   1323.914069   \n",
       "min        0.000000       63.00000     55.000000      0.000000    427.000000   \n",
       "25%     9792.250000       73.00000     69.000000      3.000000   1858.000000   \n",
       "50%    19584.500000       82.00000     79.000000      7.000000   2949.000000   \n",
       "75%    29376.750000       91.00000     89.000000     11.000000   4635.000000   \n",
       "max    39169.000000       99.00000     99.000000     14.000000   4976.000000   \n",
       "\n",
       "             budget  \n",
       "count  3.917000e+04  \n",
       "mean   2.117241e+06  \n",
       "std    8.749987e+05  \n",
       "min    2.480870e+05  \n",
       "25%    1.081356e+06  \n",
       "50%    1.910635e+06  \n",
       "75%    3.022020e+06  \n",
       "max    3.124928e+06  "
      ]
     },
     "execution_count": 79,
     "metadata": {},
     "output_type": "execute_result"
    }
   ],
   "source": [
    "school_data_complete.describe() #complete number breakdown"
   ]
  },
  {
   "cell_type": "code",
   "execution_count": 80,
   "metadata": {},
   "outputs": [
    {
     "data": {
      "text/plain": [
       "78.98537145774827"
      ]
     },
     "execution_count": 80,
     "metadata": {},
     "output_type": "execute_result"
    }
   ],
   "source": [
    "math_avg = school_data_complete[\"math_score\"].mean() # math avg\n",
    "math_avg"
   ]
  },
  {
   "cell_type": "code",
   "execution_count": 81,
   "metadata": {},
   "outputs": [
    {
     "data": {
      "text/plain": [
       "81.87784018381414"
      ]
     },
     "execution_count": 81,
     "metadata": {},
     "output_type": "execute_result"
    }
   ],
   "source": [
    "read_avg = school_data_complete[\"reading_score\"].mean() # reading avg\n",
    "read_avg"
   ]
  },
  {
   "cell_type": "code",
   "execution_count": 122,
   "metadata": {},
   "outputs": [
    {
     "data": {
      "text/plain": [
       "array(['Huang High School', 'Figueroa High School', 'Shelton High School',\n",
       "       'Hernandez High School', 'Griffin High School',\n",
       "       'Wilson High School', 'Cabrera High School', 'Bailey High School',\n",
       "       'Holden High School', 'Pena High School', 'Wright High School',\n",
       "       'Rodriguez High School', 'Johnson High School', 'Ford High School',\n",
       "       'Thomas High School'], dtype=object)"
      ]
     },
     "execution_count": 122,
     "metadata": {},
     "output_type": "execute_result"
    }
   ],
   "source": [
    "total_schools = school_data_complete[\"school_name\"].unique() #total num of schools\n",
    "#totalschools = pd.DataFrame({total_schools})\n",
    "total_schools\n",
    "#len(total_schools)"
   ]
  },
  {
   "cell_type": "code",
   "execution_count": 218,
   "metadata": {},
   "outputs": [
    {
     "name": "stdout",
     "output_type": "stream",
     "text": [
      "$24,649,428.00\n"
     ]
    }
   ],
   "source": [
    "total_budget = school_data_complete[\"budget\"].unique() #total budget\n",
    "totalbud = total_budget.sum()\n",
    "currency = \"${:,.2f}\".format(int(totalbud))\n",
    "print(currency)"
   ]
  },
  {
   "cell_type": "code",
   "execution_count": 84,
   "metadata": {},
   "outputs": [
    {
     "name": "stdout",
     "output_type": "stream",
     "text": [
      "39,170\n"
     ]
    }
   ],
   "source": [
    "total_students = school_data_complete[\"gender\"].value_counts() #total num of students\n",
    "totalstud = total_students.sum()\n",
    "studformat = \"{:,}\".format(int(totalstud))\n",
    "print(studformat)"
   ]
  },
  {
   "cell_type": "code",
   "execution_count": 85,
   "metadata": {},
   "outputs": [
    {
     "name": "stdout",
     "output_type": "stream",
     "text": [
      "74.9808526933878\n"
     ]
    }
   ],
   "source": [
    "pass_math = school_data_complete.loc[school_data_complete[\"math_score\"]>= 70, :]\n",
    "numb_passmath = pass_math[\"student_name\"].value_counts()\n",
    "math_per = (numb_passmath.sum()/39170)*100\n",
    "print(math_per)"
   ]
  },
  {
   "cell_type": "code",
   "execution_count": 86,
   "metadata": {},
   "outputs": [
    {
     "name": "stdout",
     "output_type": "stream",
     "text": [
      "85.80546336482001\n"
     ]
    }
   ],
   "source": [
    "pass_read = school_data_complete.loc[school_data_complete[\"reading_score\"]>= 70, :]\n",
    "numb_passread = pass_read[\"student_name\"].value_counts()\n",
    "read_per = (numb_passread.sum()/39170)*100\n",
    "print(read_per)"
   ]
  },
  {
   "cell_type": "code",
   "execution_count": 87,
   "metadata": {},
   "outputs": [
    {
     "name": "stdout",
     "output_type": "stream",
     "text": [
      "65.17232575950983\n"
     ]
    }
   ],
   "source": [
    "\n",
    "pass_total = school_data_complete.loc[(school_data_complete[\"math_score\"]>= 70)& (school_data_complete[\"reading_score\"]>= 70), :]\n",
    "numbpass_total = pass_total[\"student_name\"].value_counts()\n",
    "pass_per = (numbpass_total.sum()/39170)*100\n",
    "print(pass_per)"
   ]
  },
  {
   "cell_type": "code",
   "execution_count": 88,
   "metadata": {},
   "outputs": [
    {
     "data": {
      "text/html": [
       "<div>\n",
       "<style scoped>\n",
       "    .dataframe tbody tr th:only-of-type {\n",
       "        vertical-align: middle;\n",
       "    }\n",
       "\n",
       "    .dataframe tbody tr th {\n",
       "        vertical-align: top;\n",
       "    }\n",
       "\n",
       "    .dataframe thead th {\n",
       "        text-align: right;\n",
       "    }\n",
       "</style>\n",
       "<table border=\"1\" class=\"dataframe\">\n",
       "  <thead>\n",
       "    <tr style=\"text-align: right;\">\n",
       "      <th></th>\n",
       "      <th>Total Schools</th>\n",
       "      <th>Total Students</th>\n",
       "      <th>Total Budget</th>\n",
       "      <th>Average Math Score</th>\n",
       "      <th>Average Reading Score</th>\n",
       "      <th>% Passing Math</th>\n",
       "      <th>% Passing Reading</th>\n",
       "      <th>% Overall Passing</th>\n",
       "    </tr>\n",
       "  </thead>\n",
       "  <tbody>\n",
       "    <tr>\n",
       "      <th>0</th>\n",
       "      <td>15</td>\n",
       "      <td>39,170</td>\n",
       "      <td>$24,649,428.00</td>\n",
       "      <td>78.985371</td>\n",
       "      <td>81.87784</td>\n",
       "      <td>74.980853</td>\n",
       "      <td>85.805463</td>\n",
       "      <td>65.172326</td>\n",
       "    </tr>\n",
       "  </tbody>\n",
       "</table>\n",
       "</div>"
      ],
      "text/plain": [
       "   Total Schools Total Students    Total Budget  Average Math Score  \\\n",
       "0             15         39,170  $24,649,428.00           78.985371   \n",
       "\n",
       "   Average Reading Score  % Passing Math  % Passing Reading  % Overall Passing  \n",
       "0               81.87784       74.980853          85.805463          65.172326  "
      ]
     },
     "execution_count": 88,
     "metadata": {},
     "output_type": "execute_result"
    }
   ],
   "source": [
    "district_summary = pd.DataFrame({\"Total Schools\": [len(total_schools)], \"Total Students\": [studformat], \"Total Budget\": [currency], \"Average Math Score\": [math_avg], \"Average Reading Score\": [read_avg], \"% Passing Math\": [math_per], \"% Passing Reading\": [read_per], \"% Overall Passing\": [pass_per]})\n",
    "district_summary            "
   ]
  },
  {
   "cell_type": "code",
   "execution_count": 248,
   "metadata": {},
   "outputs": [
    {
     "data": {
      "text/plain": [
       "school_name\n",
       "Huang High School        District\n",
       "Figueroa High School     District\n",
       "Shelton High School       Charter\n",
       "Hernandez High School    District\n",
       "Griffin High School       Charter\n",
       "Wilson High School        Charter\n",
       "Cabrera High School       Charter\n",
       "Bailey High School       District\n",
       "Holden High School        Charter\n",
       "Pena High School          Charter\n",
       "Wright High School        Charter\n",
       "Rodriguez High School    District\n",
       "Johnson High School      District\n",
       "Ford High School         District\n",
       "Thomas High School        Charter\n",
       "Name: type, dtype: object"
      ]
     },
     "execution_count": 248,
     "metadata": {},
     "output_type": "execute_result"
    }
   ],
   "source": [
    "types = school_data.set_index([\"school_name\"])[\"type\"]\n",
    "types"
   ]
  },
  {
   "cell_type": "code",
   "execution_count": 250,
   "metadata": {},
   "outputs": [
    {
     "data": {
      "text/plain": [
       "school_name\n",
       "Bailey High School       3124928.0\n",
       "Cabrera High School      1081356.0\n",
       "Figueroa High School     1884411.0\n",
       "Ford High School         1763916.0\n",
       "Griffin High School       917500.0\n",
       "Hernandez High School    3022020.0\n",
       "Holden High School        248087.0\n",
       "Huang High School        1910635.0\n",
       "Johnson High School      3094650.0\n",
       "Pena High School          585858.0\n",
       "Rodriguez High School    2547363.0\n",
       "Shelton High School      1056600.0\n",
       "Thomas High School       1043130.0\n",
       "Wilson High School       1319574.0\n",
       "Wright High School       1049400.0\n",
       "Name: budget, dtype: float64"
      ]
     },
     "execution_count": 250,
     "metadata": {},
     "output_type": "execute_result"
    }
   ],
   "source": [
    "per_school_budget = school_data_complete.groupby([\"school_name\"]).mean()[\"budget\"]\n",
    "per_school_budget"
   ]
  },
  {
   "cell_type": "code",
   "execution_count": 251,
   "metadata": {},
   "outputs": [
    {
     "data": {
      "text/plain": [
       "Bailey High School       4976\n",
       "Johnson High School      4761\n",
       "Hernandez High School    4635\n",
       "Rodriguez High School    3999\n",
       "Figueroa High School     2949\n",
       "Huang High School        2917\n",
       "Ford High School         2739\n",
       "Wilson High School       2283\n",
       "Cabrera High School      1858\n",
       "Wright High School       1800\n",
       "Shelton High School      1761\n",
       "Thomas High School       1635\n",
       "Griffin High School      1468\n",
       "Pena High School          962\n",
       "Holden High School        427\n",
       "Name: school_name, dtype: int64"
      ]
     },
     "execution_count": 251,
     "metadata": {},
     "output_type": "execute_result"
    }
   ],
   "source": [
    "per_school_counts = school_data_complete[\"school_name\"].value_counts()\n",
    "per_school_counts"
   ]
  },
  {
   "cell_type": "code",
   "execution_count": 235,
   "metadata": {},
   "outputs": [
    {
     "data": {
      "text/html": [
       "<div>\n",
       "<style scoped>\n",
       "    .dataframe tbody tr th:only-of-type {\n",
       "        vertical-align: middle;\n",
       "    }\n",
       "\n",
       "    .dataframe tbody tr th {\n",
       "        vertical-align: top;\n",
       "    }\n",
       "\n",
       "    .dataframe thead th {\n",
       "        text-align: right;\n",
       "    }\n",
       "</style>\n",
       "<table border=\"1\" class=\"dataframe\">\n",
       "  <thead>\n",
       "    <tr style=\"text-align: right;\">\n",
       "      <th></th>\n",
       "      <th>School ID</th>\n",
       "      <th>Type</th>\n",
       "      <th>Total Students</th>\n",
       "      <th>Total School's Budget</th>\n",
       "    </tr>\n",
       "    <tr>\n",
       "      <th>school_name</th>\n",
       "      <th></th>\n",
       "      <th></th>\n",
       "      <th></th>\n",
       "      <th></th>\n",
       "    </tr>\n",
       "  </thead>\n",
       "  <tbody>\n",
       "    <tr>\n",
       "      <th>Bailey High School</th>\n",
       "      <td>7</td>\n",
       "      <td>District</td>\n",
       "      <td>4976</td>\n",
       "      <td>3124928</td>\n",
       "    </tr>\n",
       "    <tr>\n",
       "      <th>Cabrera High School</th>\n",
       "      <td>6</td>\n",
       "      <td>Charter</td>\n",
       "      <td>1858</td>\n",
       "      <td>1081356</td>\n",
       "    </tr>\n",
       "    <tr>\n",
       "      <th>Figueroa High School</th>\n",
       "      <td>1</td>\n",
       "      <td>District</td>\n",
       "      <td>2949</td>\n",
       "      <td>1884411</td>\n",
       "    </tr>\n",
       "    <tr>\n",
       "      <th>Ford High School</th>\n",
       "      <td>13</td>\n",
       "      <td>District</td>\n",
       "      <td>2739</td>\n",
       "      <td>1763916</td>\n",
       "    </tr>\n",
       "    <tr>\n",
       "      <th>Griffin High School</th>\n",
       "      <td>4</td>\n",
       "      <td>Charter</td>\n",
       "      <td>1468</td>\n",
       "      <td>917500</td>\n",
       "    </tr>\n",
       "    <tr>\n",
       "      <th>Hernandez High School</th>\n",
       "      <td>3</td>\n",
       "      <td>District</td>\n",
       "      <td>4635</td>\n",
       "      <td>3022020</td>\n",
       "    </tr>\n",
       "    <tr>\n",
       "      <th>Holden High School</th>\n",
       "      <td>8</td>\n",
       "      <td>Charter</td>\n",
       "      <td>427</td>\n",
       "      <td>248087</td>\n",
       "    </tr>\n",
       "    <tr>\n",
       "      <th>Huang High School</th>\n",
       "      <td>0</td>\n",
       "      <td>District</td>\n",
       "      <td>2917</td>\n",
       "      <td>1910635</td>\n",
       "    </tr>\n",
       "    <tr>\n",
       "      <th>Johnson High School</th>\n",
       "      <td>12</td>\n",
       "      <td>District</td>\n",
       "      <td>4761</td>\n",
       "      <td>3094650</td>\n",
       "    </tr>\n",
       "    <tr>\n",
       "      <th>Pena High School</th>\n",
       "      <td>9</td>\n",
       "      <td>Charter</td>\n",
       "      <td>962</td>\n",
       "      <td>585858</td>\n",
       "    </tr>\n",
       "    <tr>\n",
       "      <th>Rodriguez High School</th>\n",
       "      <td>11</td>\n",
       "      <td>District</td>\n",
       "      <td>3999</td>\n",
       "      <td>2547363</td>\n",
       "    </tr>\n",
       "    <tr>\n",
       "      <th>Shelton High School</th>\n",
       "      <td>2</td>\n",
       "      <td>Charter</td>\n",
       "      <td>1761</td>\n",
       "      <td>1056600</td>\n",
       "    </tr>\n",
       "    <tr>\n",
       "      <th>Thomas High School</th>\n",
       "      <td>14</td>\n",
       "      <td>Charter</td>\n",
       "      <td>1635</td>\n",
       "      <td>1043130</td>\n",
       "    </tr>\n",
       "    <tr>\n",
       "      <th>Wilson High School</th>\n",
       "      <td>5</td>\n",
       "      <td>Charter</td>\n",
       "      <td>2283</td>\n",
       "      <td>1319574</td>\n",
       "    </tr>\n",
       "    <tr>\n",
       "      <th>Wright High School</th>\n",
       "      <td>10</td>\n",
       "      <td>Charter</td>\n",
       "      <td>1800</td>\n",
       "      <td>1049400</td>\n",
       "    </tr>\n",
       "  </tbody>\n",
       "</table>\n",
       "</div>"
      ],
      "text/plain": [
       "                       School ID      Type   Total Students  \\\n",
       "school_name                                                   \n",
       "Bailey High School             7  District             4976   \n",
       "Cabrera High School            6   Charter             1858   \n",
       "Figueroa High School           1  District             2949   \n",
       "Ford High School              13  District             2739   \n",
       "Griffin High School            4   Charter             1468   \n",
       "Hernandez High School          3  District             4635   \n",
       "Holden High School             8   Charter              427   \n",
       "Huang High School              0  District             2917   \n",
       "Johnson High School           12  District             4761   \n",
       "Pena High School               9   Charter              962   \n",
       "Rodriguez High School         11  District             3999   \n",
       "Shelton High School            2   Charter             1761   \n",
       "Thomas High School            14   Charter             1635   \n",
       "Wilson High School             5   Charter             2283   \n",
       "Wright High School            10   Charter             1800   \n",
       "\n",
       "                       Total School's Budget  \n",
       "school_name                                   \n",
       "Bailey High School                   3124928  \n",
       "Cabrera High School                  1081356  \n",
       "Figueroa High School                 1884411  \n",
       "Ford High School                     1763916  \n",
       "Griffin High School                   917500  \n",
       "Hernandez High School                3022020  \n",
       "Holden High School                    248087  \n",
       "Huang High School                    1910635  \n",
       "Johnson High School                  3094650  \n",
       "Pena High School                      585858  \n",
       "Rodriguez High School                2547363  \n",
       "Shelton High School                  1056600  \n",
       "Thomas High School                   1043130  \n",
       "Wilson High School                   1319574  \n",
       "Wright High School                   1049400  "
      ]
     },
     "execution_count": 235,
     "metadata": {},
     "output_type": "execute_result"
    }
   ],
   "source": [
    "school_summary = pd.DataFrame({\"School Name\": [\"school_name\"], \"Type\":[\"type\"], \"TTL Students\":[\"ttl_stds\"]})\n",
    "school_summary = school_data.set_index([\"school_name\"])\n",
    "school_summary = school_summary.rename(columns = {\"school_name\": \" \", \"type\": \"Type\", \"size\": \" Total Students\", \"budget\": \"Total School's Budget\"}, index={\"school_name\": \"  \"})\n",
    "school_summary.sort_index()\n"
   ]
  },
  {
   "cell_type": "code",
   "execution_count": null,
   "metadata": {},
   "outputs": [],
   "source": []
  }
 ],
 "metadata": {
  "kernelspec": {
   "display_name": "Python 3",
   "language": "python",
   "name": "python3"
  },
  "language_info": {
   "codemirror_mode": {
    "name": "ipython",
    "version": 3
   },
   "file_extension": ".py",
   "mimetype": "text/x-python",
   "name": "python",
   "nbconvert_exporter": "python",
   "pygments_lexer": "ipython3",
   "version": "3.8.5"
  }
 },
 "nbformat": 4,
 "nbformat_minor": 4
}
